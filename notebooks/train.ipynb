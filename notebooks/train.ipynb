{
 "cells": [
  {
   "cell_type": "markdown",
   "metadata": {},
   "source": [
    "# Train pytorch model on CIFAR10 with Azure Machine Learning\n",
    "Based on https://docs.microsoft.com/en-us/azure/machine-learning/tutorial-1st-experiment-sdk-train"
   ]
  },
  {
   "cell_type": "markdown",
   "metadata": {},
   "source": [
    "### Workspace"
   ]
  },
  {
   "cell_type": "code",
   "execution_count": null,
   "metadata": {},
   "outputs": [],
   "source": [
    "# https://docs.microsoft.com/en-us/python/api/azureml-core/azureml.core.workspace.workspace?view=azure-ml-py\n",
    "from azureml.core import Workspace\n",
    "ws = Workspace.from_config()"
   ]
  },
  {
   "cell_type": "markdown",
   "metadata": {},
   "source": [
    "### Compute target\n",
    "Create a compute target in the Azure Machine Learning studio.\n",
    "- e.g. with the name 'cl-gpu-max1-pvt'\n",
    "- 1 node GPU \n",
    "- idle time 360 seconds"
   ]
  },
  {
   "cell_type": "code",
   "execution_count": null,
   "metadata": {},
   "outputs": [],
   "source": [
    "_compute_target = 'cl-gpu-max1-pvt'"
   ]
  },
  {
   "cell_type": "markdown",
   "metadata": {},
   "source": [
    "### Change idle time of compute target\n",
    "The inactive cluster will shut down after the idle time of seconds and will not incur significant costs."
   ]
  },
  {
   "cell_type": "code",
   "execution_count": null,
   "metadata": {},
   "outputs": [],
   "source": [
    "# https://docs.microsoft.com/en-us/python/api/azureml-core/azureml.core.compute.computetarget?view=azure-ml-py\n",
    "from azureml.core import ComputeTarget\n",
    "\n",
    "# choose idle times, i.e. 3600 or 360\n",
    "ComputeTarget(ws, _compute_target).update(idle_seconds_before_scaledown=360) "
   ]
  },
  {
   "cell_type": "markdown",
   "metadata": {},
   "source": [
    "### Environment"
   ]
  },
  {
   "cell_type": "code",
   "execution_count": null,
   "metadata": {},
   "outputs": [],
   "source": [
    "# https://docs.microsoft.com/en-us/python/api/azureml-core/azureml.core.environment(class)?view=azure-ml-py\n",
    "from azureml.core import Environment\n",
    "\n",
    "# use curated pytorch environment\n",
    "env = Environment.get(workspace=ws, name=\"AzureML-pytorch-1.10-ubuntu18.04-py38-cuda11-gpu\")\n",
    "\n",
    "# Or define custom environment (Note this will take quite some time to build the docker image the first time)\n",
    "#env = Environment.from_conda_specification(\n",
    "#    name='pytorch-env',\n",
    "#    file_path='../pytorch-env.yml'\n",
    "#)"
   ]
  },
  {
   "cell_type": "markdown",
   "metadata": {},
   "source": [
    "### Experiment"
   ]
  },
  {
   "cell_type": "code",
   "execution_count": null,
   "metadata": {},
   "outputs": [],
   "source": [
    "# https://docs.microsoft.com/en-us/python/api/azureml-core/azureml.core.experiment.experiment?view=azure-ml-py\n",
    "# https://docs.microsoft.com/en-us/python/api/azureml-core/azureml.core.scriptrunconfig?view=azure-ml-py \n",
    "from azureml.core import Experiment\n",
    "from azureml.core import ScriptRunConfig\n",
    "\n",
    "experiment = Experiment(workspace=ws, name='CIFAR10')\n",
    "config = ScriptRunConfig(source_directory='../code',\n",
    "                            script='train.py',\n",
    "                            arguments=['--debug', 0, '--numepochs', 2],\n",
    "                            compute_target=_compute_target,\n",
    "                            environment = env)\n",
    "\n",
    "run = experiment.submit(config)\n",
    "run.get_portal_url()"
   ]
  },
  {
   "cell_type": "code",
   "execution_count": null,
   "metadata": {},
   "outputs": [],
   "source": []
  }
 ],
 "metadata": {
  "interpreter": {
   "hash": "96a0bd77ae6f93f743102e9131cf43ed5f1dc93196b8f929830986746b160573"
  },
  "kernelspec": {
   "display_name": "Python 3.8.5 ('aml')",
   "language": "python",
   "name": "python3"
  },
  "language_info": {
   "codemirror_mode": {
    "name": "ipython",
    "version": 3
   },
   "file_extension": ".py",
   "mimetype": "text/x-python",
   "name": "python",
   "nbconvert_exporter": "python",
   "pygments_lexer": "ipython3",
   "version": "3.8.5"
  },
  "orig_nbformat": 4
 },
 "nbformat": 4,
 "nbformat_minor": 2
}
